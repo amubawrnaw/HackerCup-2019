{
 "cells": [
  {
   "cell_type": "code",
   "execution_count": 1,
   "metadata": {
    "collapsed": true
   },
   "outputs": [],
   "source": [
    "import pandas as pd\n",
    "import random"
   ]
  },
  {
   "cell_type": "code",
   "execution_count": 2,
   "metadata": {
    "collapsed": false
   },
   "outputs": [],
   "source": [
    "municities = pd.read_json ('data/municipalities.json')"
   ]
  },
  {
   "cell_type": "code",
   "execution_count": 3,
   "metadata": {
    "collapsed": false
   },
   "outputs": [
    {
     "data": {
      "text/html": [
       "<div>\n",
       "<style scoped>\n",
       "    .dataframe tbody tr th:only-of-type {\n",
       "        vertical-align: middle;\n",
       "    }\n",
       "\n",
       "    .dataframe tbody tr th {\n",
       "        vertical-align: top;\n",
       "    }\n",
       "\n",
       "    .dataframe thead th {\n",
       "        text-align: right;\n",
       "    }\n",
       "</style>\n",
       "<table border=\"1\" class=\"dataframe\">\n",
       "  <thead>\n",
       "    <tr style=\"text-align: right;\">\n",
       "      <th></th>\n",
       "      <th>features</th>\n",
       "      <th>type</th>\n",
       "    </tr>\n",
       "  </thead>\n",
       "  <tbody>\n",
       "    <tr>\n",
       "      <th>0</th>\n",
       "      <td>{'type': 'Feature', 'properties': {'ID_0': 177...</td>\n",
       "      <td>FeatureCollection</td>\n",
       "    </tr>\n",
       "    <tr>\n",
       "      <th>1</th>\n",
       "      <td>{'type': 'Feature', 'properties': {'ID_0': 177...</td>\n",
       "      <td>FeatureCollection</td>\n",
       "    </tr>\n",
       "    <tr>\n",
       "      <th>2</th>\n",
       "      <td>{'type': 'Feature', 'properties': {'ID_0': 177...</td>\n",
       "      <td>FeatureCollection</td>\n",
       "    </tr>\n",
       "    <tr>\n",
       "      <th>3</th>\n",
       "      <td>{'type': 'Feature', 'properties': {'ID_0': 177...</td>\n",
       "      <td>FeatureCollection</td>\n",
       "    </tr>\n",
       "    <tr>\n",
       "      <th>4</th>\n",
       "      <td>{'type': 'Feature', 'properties': {'ID_0': 177...</td>\n",
       "      <td>FeatureCollection</td>\n",
       "    </tr>\n",
       "  </tbody>\n",
       "</table>\n",
       "</div>"
      ],
      "text/plain": [
       "                                            features               type\n",
       "0  {'type': 'Feature', 'properties': {'ID_0': 177...  FeatureCollection\n",
       "1  {'type': 'Feature', 'properties': {'ID_0': 177...  FeatureCollection\n",
       "2  {'type': 'Feature', 'properties': {'ID_0': 177...  FeatureCollection\n",
       "3  {'type': 'Feature', 'properties': {'ID_0': 177...  FeatureCollection\n",
       "4  {'type': 'Feature', 'properties': {'ID_0': 177...  FeatureCollection"
      ]
     },
     "execution_count": 3,
     "metadata": {},
     "output_type": "execute_result"
    }
   ],
   "source": [
    "municities.head()"
   ]
  },
  {
   "cell_type": "code",
   "execution_count": 4,
   "metadata": {
    "collapsed": false
   },
   "outputs": [],
   "source": [
    "dfobj = []\n",
    "for index, row in municities.iterrows():\n",
    "    dfobj.append(row['features'])"
   ]
  },
  {
   "cell_type": "code",
   "execution_count": 5,
   "metadata": {
    "collapsed": false
   },
   "outputs": [],
   "source": [
    "yeet = pd.DataFrame(dfobj)"
   ]
  },
  {
   "cell_type": "code",
   "execution_count": 6,
   "metadata": {
    "collapsed": false
   },
   "outputs": [
    {
     "data": {
      "text/html": [
       "<div>\n",
       "<style scoped>\n",
       "    .dataframe tbody tr th:only-of-type {\n",
       "        vertical-align: middle;\n",
       "    }\n",
       "\n",
       "    .dataframe tbody tr th {\n",
       "        vertical-align: top;\n",
       "    }\n",
       "\n",
       "    .dataframe thead th {\n",
       "        text-align: right;\n",
       "    }\n",
       "</style>\n",
       "<table border=\"1\" class=\"dataframe\">\n",
       "  <thead>\n",
       "    <tr style=\"text-align: right;\">\n",
       "      <th></th>\n",
       "      <th>geometry</th>\n",
       "      <th>properties</th>\n",
       "      <th>type</th>\n",
       "    </tr>\n",
       "  </thead>\n",
       "  <tbody>\n",
       "    <tr>\n",
       "      <th>0</th>\n",
       "      <td>{'type': 'Polygon', 'coordinates': [[[120.9679...</td>\n",
       "      <td>{'ID_0': 177, 'ISO': 'PHL', 'NAME_0': 'Philipp...</td>\n",
       "      <td>Feature</td>\n",
       "    </tr>\n",
       "    <tr>\n",
       "      <th>1</th>\n",
       "      <td>{'type': 'Polygon', 'coordinates': [[[125.5772...</td>\n",
       "      <td>{'ID_0': 177, 'ISO': 'PHL', 'NAME_0': 'Philipp...</td>\n",
       "      <td>Feature</td>\n",
       "    </tr>\n",
       "    <tr>\n",
       "      <th>2</th>\n",
       "      <td>{'type': 'Polygon', 'coordinates': [[[125.9108...</td>\n",
       "      <td>{'ID_0': 177, 'ISO': 'PHL', 'NAME_0': 'Philipp...</td>\n",
       "      <td>Feature</td>\n",
       "    </tr>\n",
       "    <tr>\n",
       "      <th>3</th>\n",
       "      <td>{'type': 'MultiPolygon', 'coordinates': [[[[12...</td>\n",
       "      <td>{'ID_0': 177, 'ISO': 'PHL', 'NAME_0': 'Philipp...</td>\n",
       "      <td>Feature</td>\n",
       "    </tr>\n",
       "    <tr>\n",
       "      <th>4</th>\n",
       "      <td>{'type': 'MultiPolygon', 'coordinates': [[[[12...</td>\n",
       "      <td>{'ID_0': 177, 'ISO': 'PHL', 'NAME_0': 'Philipp...</td>\n",
       "      <td>Feature</td>\n",
       "    </tr>\n",
       "  </tbody>\n",
       "</table>\n",
       "</div>"
      ],
      "text/plain": [
       "                                            geometry  \\\n",
       "0  {'type': 'Polygon', 'coordinates': [[[120.9679...   \n",
       "1  {'type': 'Polygon', 'coordinates': [[[125.5772...   \n",
       "2  {'type': 'Polygon', 'coordinates': [[[125.9108...   \n",
       "3  {'type': 'MultiPolygon', 'coordinates': [[[[12...   \n",
       "4  {'type': 'MultiPolygon', 'coordinates': [[[[12...   \n",
       "\n",
       "                                          properties     type  \n",
       "0  {'ID_0': 177, 'ISO': 'PHL', 'NAME_0': 'Philipp...  Feature  \n",
       "1  {'ID_0': 177, 'ISO': 'PHL', 'NAME_0': 'Philipp...  Feature  \n",
       "2  {'ID_0': 177, 'ISO': 'PHL', 'NAME_0': 'Philipp...  Feature  \n",
       "3  {'ID_0': 177, 'ISO': 'PHL', 'NAME_0': 'Philipp...  Feature  \n",
       "4  {'ID_0': 177, 'ISO': 'PHL', 'NAME_0': 'Philipp...  Feature  "
      ]
     },
     "execution_count": 6,
     "metadata": {},
     "output_type": "execute_result"
    }
   ],
   "source": [
    "yeet.head()"
   ]
  },
  {
   "cell_type": "code",
   "execution_count": 7,
   "metadata": {
    "collapsed": false
   },
   "outputs": [
    {
     "name": "stdout",
     "output_type": "stream",
     "text": [
      "Abra\n",
      "Agusan del Norte\n",
      "Agusan del Sur\n",
      "Aklan\n",
      "Albay\n",
      "Antique\n",
      "Apayao\n",
      "Aurora\n",
      "Basilan\n",
      "Bataan\n",
      "Batanes\n",
      "Batangas\n",
      "Benguet\n",
      "Biliran\n",
      "Bohol\n",
      "Bukidnon\n",
      "Bulacan\n",
      "Cagayan\n",
      "Camarines Norte\n",
      "Camarines Sur\n",
      "Camiguin\n",
      "Capiz\n",
      "Catanduanes\n",
      "Cavite\n",
      "Cebu\n",
      "Compostela Valley\n",
      "Davao del Norte\n",
      "Davao del Sur\n",
      "Davao Oriental\n",
      "Dinagat Islands\n",
      "Eastern Samar\n",
      "Guimaras\n",
      "Ifugao\n",
      "Ilocos Norte\n",
      "Ilocos Sur\n",
      "Iloilo\n",
      "Isabela\n",
      "Kalinga\n",
      "La Union\n",
      "Laguna\n",
      "Lanao del Norte\n",
      "Lanao del Sur\n",
      "Leyte\n",
      "Maguindanao\n",
      "Marinduque\n",
      "Masbate\n",
      "Metropolitan Manila\n",
      "Misamis Occidental\n",
      "Misamis Oriental\n",
      "Mountain Province\n",
      "Negros Occidental\n",
      "Negros Oriental\n",
      "North Cotabato\n",
      "Northern Samar\n",
      "Nueva Ecija\n",
      "Nueva Vizcaya\n",
      "Occidental Mindoro\n",
      "Oriental Mindoro\n",
      "Palawan\n",
      "Pampanga\n",
      "Pangasinan\n",
      "Quezon\n",
      "Quirino\n",
      "Rizal\n",
      "Romblon\n",
      "Samar\n",
      "Sarangani\n",
      "Shariff Kabunsuan\n",
      "Siquijor\n",
      "Sorsogon\n",
      "South Cotabato\n",
      "Southern Leyte\n",
      "Sultan Kudarat\n",
      "Sulu\n",
      "Surigao del Norte\n",
      "Surigao del Sur\n",
      "Tarlac\n",
      "Tawi-Tawi\n",
      "Zambales\n",
      "Zamboanga del Norte\n",
      "Zamboanga del Sur\n",
      "Zamboanga Sibugay\n"
     ]
    }
   ],
   "source": [
    "realdata = []\n",
    "for step, deets in yeet.iterrows():\n",
    "    anobj = {}\n",
    "    anobj['name'] = deets['properties']['NAME_1']\n",
    "    anobj['coords'] = deets['geometry']['coordinates']\n",
    "    anobj['watervalue'] = random.random()*9821491419259\n",
    "    realdata.append(anobj)\n",
    "    print(deets['properties']['NAME_1'])"
   ]
  },
  {
   "cell_type": "code",
   "execution_count": 8,
   "metadata": {
    "collapsed": true
   },
   "outputs": [],
   "source": [
    "savecsv = pd.DataFrame(realdata)"
   ]
  },
  {
   "cell_type": "code",
   "execution_count": 9,
   "metadata": {
    "collapsed": false
   },
   "outputs": [
    {
     "data": {
      "text/html": [
       "<div>\n",
       "<style scoped>\n",
       "    .dataframe tbody tr th:only-of-type {\n",
       "        vertical-align: middle;\n",
       "    }\n",
       "\n",
       "    .dataframe tbody tr th {\n",
       "        vertical-align: top;\n",
       "    }\n",
       "\n",
       "    .dataframe thead th {\n",
       "        text-align: right;\n",
       "    }\n",
       "</style>\n",
       "<table border=\"1\" class=\"dataframe\">\n",
       "  <thead>\n",
       "    <tr style=\"text-align: right;\">\n",
       "      <th></th>\n",
       "      <th>coords</th>\n",
       "      <th>name</th>\n",
       "      <th>watervalue</th>\n",
       "    </tr>\n",
       "  </thead>\n",
       "  <tbody>\n",
       "    <tr>\n",
       "      <th>0</th>\n",
       "      <td>[[[120.967949, 17.95706], [120.978027, 17.9494...</td>\n",
       "      <td>Abra</td>\n",
       "      <td>7.415753e+12</td>\n",
       "    </tr>\n",
       "    <tr>\n",
       "      <th>1</th>\n",
       "      <td>[[[125.57724, 9.45679], [125.59687, 9.45509], ...</td>\n",
       "      <td>Agusan del Norte</td>\n",
       "      <td>1.247894e+11</td>\n",
       "    </tr>\n",
       "    <tr>\n",
       "      <th>2</th>\n",
       "      <td>[[[125.910873, 8.85625], [125.914612, 8.85211]...</td>\n",
       "      <td>Agusan del Sur</td>\n",
       "      <td>3.660367e+12</td>\n",
       "    </tr>\n",
       "    <tr>\n",
       "      <th>3</th>\n",
       "      <td>[[[[122.436668, 11.59833], [122.436668, 11.596...</td>\n",
       "      <td>Aklan</td>\n",
       "      <td>8.383423e+10</td>\n",
       "    </tr>\n",
       "    <tr>\n",
       "      <th>4</th>\n",
       "      <td>[[[[123.287643, 13.04923], [123.286858, 13.049...</td>\n",
       "      <td>Albay</td>\n",
       "      <td>7.669790e+12</td>\n",
       "    </tr>\n",
       "  </tbody>\n",
       "</table>\n",
       "</div>"
      ],
      "text/plain": [
       "                                              coords              name  \\\n",
       "0  [[[120.967949, 17.95706], [120.978027, 17.9494...              Abra   \n",
       "1  [[[125.57724, 9.45679], [125.59687, 9.45509], ...  Agusan del Norte   \n",
       "2  [[[125.910873, 8.85625], [125.914612, 8.85211]...    Agusan del Sur   \n",
       "3  [[[[122.436668, 11.59833], [122.436668, 11.596...             Aklan   \n",
       "4  [[[[123.287643, 13.04923], [123.286858, 13.049...             Albay   \n",
       "\n",
       "     watervalue  \n",
       "0  7.415753e+12  \n",
       "1  1.247894e+11  \n",
       "2  3.660367e+12  \n",
       "3  8.383423e+10  \n",
       "4  7.669790e+12  "
      ]
     },
     "execution_count": 9,
     "metadata": {},
     "output_type": "execute_result"
    }
   ],
   "source": [
    "savecsv.head()"
   ]
  },
  {
   "cell_type": "code",
   "execution_count": 10,
   "metadata": {
    "collapsed": false
   },
   "outputs": [
    {
     "data": {
      "text/plain": [
       "0                    Abra\n",
       "1        Agusan del Norte\n",
       "2          Agusan del Sur\n",
       "3                   Aklan\n",
       "4                   Albay\n",
       "5                 Antique\n",
       "6                  Apayao\n",
       "7                  Aurora\n",
       "8                 Basilan\n",
       "9                  Bataan\n",
       "10                Batanes\n",
       "11               Batangas\n",
       "12                Benguet\n",
       "13                Biliran\n",
       "14                  Bohol\n",
       "15               Bukidnon\n",
       "16                Bulacan\n",
       "17                Cagayan\n",
       "18        Camarines Norte\n",
       "19          Camarines Sur\n",
       "20               Camiguin\n",
       "21                  Capiz\n",
       "22            Catanduanes\n",
       "23                 Cavite\n",
       "24                   Cebu\n",
       "25      Compostela Valley\n",
       "26        Davao del Norte\n",
       "27          Davao del Sur\n",
       "28         Davao Oriental\n",
       "29        Dinagat Islands\n",
       "             ...         \n",
       "52         North Cotabato\n",
       "53         Northern Samar\n",
       "54            Nueva Ecija\n",
       "55          Nueva Vizcaya\n",
       "56     Occidental Mindoro\n",
       "57       Oriental Mindoro\n",
       "58                Palawan\n",
       "59               Pampanga\n",
       "60             Pangasinan\n",
       "61                 Quezon\n",
       "62                Quirino\n",
       "63                  Rizal\n",
       "64                Romblon\n",
       "65                  Samar\n",
       "66              Sarangani\n",
       "67      Shariff Kabunsuan\n",
       "68               Siquijor\n",
       "69               Sorsogon\n",
       "70         South Cotabato\n",
       "71         Southern Leyte\n",
       "72         Sultan Kudarat\n",
       "73                   Sulu\n",
       "74      Surigao del Norte\n",
       "75        Surigao del Sur\n",
       "76                 Tarlac\n",
       "77              Tawi-Tawi\n",
       "78               Zambales\n",
       "79    Zamboanga del Norte\n",
       "80      Zamboanga del Sur\n",
       "81      Zamboanga Sibugay\n",
       "Name: name, Length: 82, dtype: object"
      ]
     },
     "execution_count": 10,
     "metadata": {},
     "output_type": "execute_result"
    }
   ],
   "source": [
    "savecsv['name']"
   ]
  },
  {
   "cell_type": "code",
   "execution_count": 49,
   "metadata": {
    "collapsed": true
   },
   "outputs": [],
   "source": [
    "savecsv.to_csv('shit.csv')"
   ]
  },
  {
   "cell_type": "code",
   "execution_count": 11,
   "metadata": {
    "collapsed": true
   },
   "outputs": [],
   "source": [
    "yes = {\"XD\": 1, \"X2\": 2}"
   ]
  },
  {
   "cell_type": "code",
   "execution_count": 13,
   "metadata": {
    "collapsed": true
   },
   "outputs": [],
   "source": [
    "import json"
   ]
  },
  {
   "cell_type": "code",
   "execution_count": 14,
   "metadata": {
    "collapsed": false
   },
   "outputs": [],
   "source": [
    "st = json.dumps(yes)"
   ]
  },
  {
   "cell_type": "code",
   "execution_count": null,
   "metadata": {
    "collapsed": true
   },
   "outputs": [],
   "source": []
  },
  {
   "cell_type": "code",
   "execution_count": 15,
   "metadata": {
    "collapsed": false
   },
   "outputs": [
    {
     "data": {
      "text/plain": [
       "'{\"XD\": 1, \"X2\": 2}'"
      ]
     },
     "execution_count": 15,
     "metadata": {},
     "output_type": "execute_result"
    }
   ],
   "source": [
    "st"
   ]
  },
  {
   "cell_type": "code",
   "execution_count": 16,
   "metadata": {
    "collapsed": true
   },
   "outputs": [],
   "source": [
    "xd = \"XDD\""
   ]
  },
  {
   "cell_type": "code",
   "execution_count": 17,
   "metadata": {
    "collapsed": false
   },
   "outputs": [
    {
     "data": {
      "text/plain": [
       "'XDD'"
      ]
     },
     "execution_count": 17,
     "metadata": {},
     "output_type": "execute_result"
    }
   ],
   "source": [
    "xd"
   ]
  },
  {
   "cell_type": "code",
   "execution_count": 18,
   "metadata": {
    "collapsed": true
   },
   "outputs": [],
   "source": [
    "from json.encoder import JSONEncoder"
   ]
  },
  {
   "cell_type": "code",
   "execution_count": 19,
   "metadata": {
    "collapsed": false
   },
   "outputs": [
    {
     "data": {
      "text/plain": [
       "'{\"XD\": 1, \"X2\": 2}'"
      ]
     },
     "execution_count": 19,
     "metadata": {},
     "output_type": "execute_result"
    }
   ],
   "source": [
    "JSONEncoder().encode(yes)"
   ]
  },
  {
   "cell_type": "code",
   "execution_count": null,
   "metadata": {
    "collapsed": true
   },
   "outputs": [],
   "source": []
  }
 ],
 "metadata": {
  "kernelspec": {
   "display_name": "Python 3",
   "language": "python",
   "name": "python3"
  },
  "language_info": {
   "codemirror_mode": {
    "name": "ipython",
    "version": 3
   },
   "file_extension": ".py",
   "mimetype": "text/x-python",
   "name": "python",
   "nbconvert_exporter": "python",
   "pygments_lexer": "ipython3",
   "version": "3.6.0"
  }
 },
 "nbformat": 4,
 "nbformat_minor": 2
}
