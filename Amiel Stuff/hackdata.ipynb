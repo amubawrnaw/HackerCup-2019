{
 "cells": [
  {
   "cell_type": "code",
   "execution_count": 45,
   "metadata": {
    "collapsed": true
   },
   "outputs": [],
   "source": [
    "import pandas as pd\n",
    "import random"
   ]
  },
  {
   "cell_type": "code",
   "execution_count": 11,
   "metadata": {
    "collapsed": false
   },
   "outputs": [],
   "source": [
    "municities = pd.read_json ('data/municipalities.json')"
   ]
  },
  {
   "cell_type": "code",
   "execution_count": 16,
   "metadata": {
    "collapsed": false
   },
   "outputs": [
    {
     "data": {
      "text/html": [
       "<div>\n",
       "<style scoped>\n",
       "    .dataframe tbody tr th:only-of-type {\n",
       "        vertical-align: middle;\n",
       "    }\n",
       "\n",
       "    .dataframe tbody tr th {\n",
       "        vertical-align: top;\n",
       "    }\n",
       "\n",
       "    .dataframe thead th {\n",
       "        text-align: right;\n",
       "    }\n",
       "</style>\n",
       "<table border=\"1\" class=\"dataframe\">\n",
       "  <thead>\n",
       "    <tr style=\"text-align: right;\">\n",
       "      <th></th>\n",
       "      <th>features</th>\n",
       "      <th>type</th>\n",
       "    </tr>\n",
       "  </thead>\n",
       "  <tbody>\n",
       "    <tr>\n",
       "      <th>0</th>\n",
       "      <td>{'type': 'Feature', 'properties': {'ID_0': 177...</td>\n",
       "      <td>FeatureCollection</td>\n",
       "    </tr>\n",
       "    <tr>\n",
       "      <th>1</th>\n",
       "      <td>{'type': 'Feature', 'properties': {'ID_0': 177...</td>\n",
       "      <td>FeatureCollection</td>\n",
       "    </tr>\n",
       "    <tr>\n",
       "      <th>2</th>\n",
       "      <td>{'type': 'Feature', 'properties': {'ID_0': 177...</td>\n",
       "      <td>FeatureCollection</td>\n",
       "    </tr>\n",
       "    <tr>\n",
       "      <th>3</th>\n",
       "      <td>{'type': 'Feature', 'properties': {'ID_0': 177...</td>\n",
       "      <td>FeatureCollection</td>\n",
       "    </tr>\n",
       "    <tr>\n",
       "      <th>4</th>\n",
       "      <td>{'type': 'Feature', 'properties': {'ID_0': 177...</td>\n",
       "      <td>FeatureCollection</td>\n",
       "    </tr>\n",
       "  </tbody>\n",
       "</table>\n",
       "</div>"
      ],
      "text/plain": [
       "                                            features               type\n",
       "0  {'type': 'Feature', 'properties': {'ID_0': 177...  FeatureCollection\n",
       "1  {'type': 'Feature', 'properties': {'ID_0': 177...  FeatureCollection\n",
       "2  {'type': 'Feature', 'properties': {'ID_0': 177...  FeatureCollection\n",
       "3  {'type': 'Feature', 'properties': {'ID_0': 177...  FeatureCollection\n",
       "4  {'type': 'Feature', 'properties': {'ID_0': 177...  FeatureCollection"
      ]
     },
     "execution_count": 16,
     "metadata": {},
     "output_type": "execute_result"
    }
   ],
   "source": [
    "municities.head()"
   ]
  },
  {
   "cell_type": "code",
   "execution_count": 31,
   "metadata": {
    "collapsed": false
   },
   "outputs": [],
   "source": [
    "dfobj = []\n",
    "for index, row in municities.iterrows():\n",
    "    dfobj.append(row['features'])"
   ]
  },
  {
   "cell_type": "code",
   "execution_count": 32,
   "metadata": {
    "collapsed": false
   },
   "outputs": [],
   "source": [
    "yeet = pd.DataFrame(dfobj)"
   ]
  },
  {
   "cell_type": "code",
   "execution_count": 33,
   "metadata": {
    "collapsed": false
   },
   "outputs": [
    {
     "data": {
      "text/html": [
       "<div>\n",
       "<style scoped>\n",
       "    .dataframe tbody tr th:only-of-type {\n",
       "        vertical-align: middle;\n",
       "    }\n",
       "\n",
       "    .dataframe tbody tr th {\n",
       "        vertical-align: top;\n",
       "    }\n",
       "\n",
       "    .dataframe thead th {\n",
       "        text-align: right;\n",
       "    }\n",
       "</style>\n",
       "<table border=\"1\" class=\"dataframe\">\n",
       "  <thead>\n",
       "    <tr style=\"text-align: right;\">\n",
       "      <th></th>\n",
       "      <th>geometry</th>\n",
       "      <th>properties</th>\n",
       "      <th>type</th>\n",
       "    </tr>\n",
       "  </thead>\n",
       "  <tbody>\n",
       "    <tr>\n",
       "      <th>0</th>\n",
       "      <td>{'type': 'Polygon', 'coordinates': [[[120.9679...</td>\n",
       "      <td>{'ID_0': 177, 'ISO': 'PHL', 'NAME_0': 'Philipp...</td>\n",
       "      <td>Feature</td>\n",
       "    </tr>\n",
       "    <tr>\n",
       "      <th>1</th>\n",
       "      <td>{'type': 'Polygon', 'coordinates': [[[125.5772...</td>\n",
       "      <td>{'ID_0': 177, 'ISO': 'PHL', 'NAME_0': 'Philipp...</td>\n",
       "      <td>Feature</td>\n",
       "    </tr>\n",
       "    <tr>\n",
       "      <th>2</th>\n",
       "      <td>{'type': 'Polygon', 'coordinates': [[[125.9108...</td>\n",
       "      <td>{'ID_0': 177, 'ISO': 'PHL', 'NAME_0': 'Philipp...</td>\n",
       "      <td>Feature</td>\n",
       "    </tr>\n",
       "    <tr>\n",
       "      <th>3</th>\n",
       "      <td>{'type': 'MultiPolygon', 'coordinates': [[[[12...</td>\n",
       "      <td>{'ID_0': 177, 'ISO': 'PHL', 'NAME_0': 'Philipp...</td>\n",
       "      <td>Feature</td>\n",
       "    </tr>\n",
       "    <tr>\n",
       "      <th>4</th>\n",
       "      <td>{'type': 'MultiPolygon', 'coordinates': [[[[12...</td>\n",
       "      <td>{'ID_0': 177, 'ISO': 'PHL', 'NAME_0': 'Philipp...</td>\n",
       "      <td>Feature</td>\n",
       "    </tr>\n",
       "  </tbody>\n",
       "</table>\n",
       "</div>"
      ],
      "text/plain": [
       "                                            geometry  \\\n",
       "0  {'type': 'Polygon', 'coordinates': [[[120.9679...   \n",
       "1  {'type': 'Polygon', 'coordinates': [[[125.5772...   \n",
       "2  {'type': 'Polygon', 'coordinates': [[[125.9108...   \n",
       "3  {'type': 'MultiPolygon', 'coordinates': [[[[12...   \n",
       "4  {'type': 'MultiPolygon', 'coordinates': [[[[12...   \n",
       "\n",
       "                                          properties     type  \n",
       "0  {'ID_0': 177, 'ISO': 'PHL', 'NAME_0': 'Philipp...  Feature  \n",
       "1  {'ID_0': 177, 'ISO': 'PHL', 'NAME_0': 'Philipp...  Feature  \n",
       "2  {'ID_0': 177, 'ISO': 'PHL', 'NAME_0': 'Philipp...  Feature  \n",
       "3  {'ID_0': 177, 'ISO': 'PHL', 'NAME_0': 'Philipp...  Feature  \n",
       "4  {'ID_0': 177, 'ISO': 'PHL', 'NAME_0': 'Philipp...  Feature  "
      ]
     },
     "execution_count": 33,
     "metadata": {},
     "output_type": "execute_result"
    }
   ],
   "source": [
    "yeet.head()"
   ]
  },
  {
   "cell_type": "code",
   "execution_count": 46,
   "metadata": {
    "collapsed": false
   },
   "outputs": [
    {
     "name": "stdout",
     "output_type": "stream",
     "text": [
      "Abra\n",
      "Agusan del Norte\n",
      "Agusan del Sur\n",
      "Aklan\n",
      "Albay\n",
      "Antique\n",
      "Apayao\n",
      "Aurora\n",
      "Basilan\n",
      "Bataan\n",
      "Batanes\n",
      "Batangas\n",
      "Benguet\n",
      "Biliran\n",
      "Bohol\n",
      "Bukidnon\n",
      "Bulacan\n",
      "Cagayan\n",
      "Camarines Norte\n",
      "Camarines Sur\n",
      "Camiguin\n",
      "Capiz\n",
      "Catanduanes\n",
      "Cavite\n",
      "Cebu\n",
      "Compostela Valley\n",
      "Davao del Norte\n",
      "Davao del Sur\n",
      "Davao Oriental\n",
      "Dinagat Islands\n",
      "Eastern Samar\n",
      "Guimaras\n",
      "Ifugao\n",
      "Ilocos Norte\n",
      "Ilocos Sur\n",
      "Iloilo\n",
      "Isabela\n",
      "Kalinga\n",
      "La Union\n",
      "Laguna\n",
      "Lanao del Norte\n",
      "Lanao del Sur\n",
      "Leyte\n",
      "Maguindanao\n",
      "Marinduque\n",
      "Masbate\n",
      "Metropolitan Manila\n",
      "Misamis Occidental\n",
      "Misamis Oriental\n",
      "Mountain Province\n",
      "Negros Occidental\n",
      "Negros Oriental\n",
      "North Cotabato\n",
      "Northern Samar\n",
      "Nueva Ecija\n",
      "Nueva Vizcaya\n",
      "Occidental Mindoro\n",
      "Oriental Mindoro\n",
      "Palawan\n",
      "Pampanga\n",
      "Pangasinan\n",
      "Quezon\n",
      "Quirino\n",
      "Rizal\n",
      "Romblon\n",
      "Samar\n",
      "Sarangani\n",
      "Shariff Kabunsuan\n",
      "Siquijor\n",
      "Sorsogon\n",
      "South Cotabato\n",
      "Southern Leyte\n",
      "Sultan Kudarat\n",
      "Sulu\n",
      "Surigao del Norte\n",
      "Surigao del Sur\n",
      "Tarlac\n",
      "Tawi-Tawi\n",
      "Zambales\n",
      "Zamboanga del Norte\n",
      "Zamboanga del Sur\n",
      "Zamboanga Sibugay\n"
     ]
    }
   ],
   "source": [
    "realdata = []\n",
    "for step, deets in yeet.iterrows():\n",
    "    anobj = {}\n",
    "    anobj['name'] = deets['properties']['NAME_1']\n",
    "    anobj['coords'] = deets['geometry']['coordinates']\n",
    "    anobj['watervalue'] = random.random()*9821491419259\n",
    "    realdata.append(anobj)\n",
    "    print(deets['properties']['NAME_1'])"
   ]
  },
  {
   "cell_type": "code",
   "execution_count": 47,
   "metadata": {
    "collapsed": true
   },
   "outputs": [],
   "source": [
    "savecsv = pd.DataFrame(realdata)"
   ]
  },
  {
   "cell_type": "code",
   "execution_count": 48,
   "metadata": {
    "collapsed": false
   },
   "outputs": [
    {
     "data": {
      "text/html": [
       "<div>\n",
       "<style scoped>\n",
       "    .dataframe tbody tr th:only-of-type {\n",
       "        vertical-align: middle;\n",
       "    }\n",
       "\n",
       "    .dataframe tbody tr th {\n",
       "        vertical-align: top;\n",
       "    }\n",
       "\n",
       "    .dataframe thead th {\n",
       "        text-align: right;\n",
       "    }\n",
       "</style>\n",
       "<table border=\"1\" class=\"dataframe\">\n",
       "  <thead>\n",
       "    <tr style=\"text-align: right;\">\n",
       "      <th></th>\n",
       "      <th>coords</th>\n",
       "      <th>name</th>\n",
       "      <th>watervalue</th>\n",
       "    </tr>\n",
       "  </thead>\n",
       "  <tbody>\n",
       "    <tr>\n",
       "      <th>0</th>\n",
       "      <td>[[[120.967949, 17.95706], [120.978027, 17.9494...</td>\n",
       "      <td>Abra</td>\n",
       "      <td>8.563189e+12</td>\n",
       "    </tr>\n",
       "    <tr>\n",
       "      <th>1</th>\n",
       "      <td>[[[125.57724, 9.45679], [125.59687, 9.45509], ...</td>\n",
       "      <td>Agusan del Norte</td>\n",
       "      <td>5.785239e+11</td>\n",
       "    </tr>\n",
       "    <tr>\n",
       "      <th>2</th>\n",
       "      <td>[[[125.910873, 8.85625], [125.914612, 8.85211]...</td>\n",
       "      <td>Agusan del Sur</td>\n",
       "      <td>3.971318e+12</td>\n",
       "    </tr>\n",
       "    <tr>\n",
       "      <th>3</th>\n",
       "      <td>[[[[122.436668, 11.59833], [122.436668, 11.596...</td>\n",
       "      <td>Aklan</td>\n",
       "      <td>9.434067e+12</td>\n",
       "    </tr>\n",
       "    <tr>\n",
       "      <th>4</th>\n",
       "      <td>[[[[123.287643, 13.04923], [123.286858, 13.049...</td>\n",
       "      <td>Albay</td>\n",
       "      <td>8.635249e+12</td>\n",
       "    </tr>\n",
       "  </tbody>\n",
       "</table>\n",
       "</div>"
      ],
      "text/plain": [
       "                                              coords              name  \\\n",
       "0  [[[120.967949, 17.95706], [120.978027, 17.9494...              Abra   \n",
       "1  [[[125.57724, 9.45679], [125.59687, 9.45509], ...  Agusan del Norte   \n",
       "2  [[[125.910873, 8.85625], [125.914612, 8.85211]...    Agusan del Sur   \n",
       "3  [[[[122.436668, 11.59833], [122.436668, 11.596...             Aklan   \n",
       "4  [[[[123.287643, 13.04923], [123.286858, 13.049...             Albay   \n",
       "\n",
       "     watervalue  \n",
       "0  8.563189e+12  \n",
       "1  5.785239e+11  \n",
       "2  3.971318e+12  \n",
       "3  9.434067e+12  \n",
       "4  8.635249e+12  "
      ]
     },
     "execution_count": 48,
     "metadata": {},
     "output_type": "execute_result"
    }
   ],
   "source": [
    "savecsv.head()"
   ]
  },
  {
   "cell_type": "code",
   "execution_count": 49,
   "metadata": {
    "collapsed": true
   },
   "outputs": [],
   "source": [
    "savecsv.to_csv('shit.csv')"
   ]
  },
  {
   "cell_type": "code",
   "execution_count": null,
   "metadata": {
    "collapsed": true
   },
   "outputs": [],
   "source": []
  }
 ],
 "metadata": {
  "kernelspec": {
   "display_name": "Python 3",
   "language": "python",
   "name": "python3"
  },
  "language_info": {
   "codemirror_mode": {
    "name": "ipython",
    "version": 3
   },
   "file_extension": ".py",
   "mimetype": "text/x-python",
   "name": "python",
   "nbconvert_exporter": "python",
   "pygments_lexer": "ipython3",
   "version": "3.6.0"
  }
 },
 "nbformat": 4,
 "nbformat_minor": 2
}
