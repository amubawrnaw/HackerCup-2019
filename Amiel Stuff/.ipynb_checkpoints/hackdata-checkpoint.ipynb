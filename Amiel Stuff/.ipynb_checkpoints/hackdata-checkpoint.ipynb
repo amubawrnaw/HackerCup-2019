{
 "cells": [
  {
   "cell_type": "code",
   "execution_count": 1,
   "metadata": {
    "collapsed": true
   },
   "outputs": [],
   "source": [
    "import pandas as pd\n",
    "import random"
   ]
  },
  {
   "cell_type": "code",
   "execution_count": 2,
   "metadata": {
    "collapsed": false
   },
   "outputs": [],
   "source": [
    "municities = pd.read_json ('data/municipalities.json')"
   ]
  },
  {
   "cell_type": "code",
   "execution_count": 3,
   "metadata": {
    "collapsed": false
   },
   "outputs": [
    {
     "data": {
      "text/html": [
       "<div>\n",
       "<style scoped>\n",
       "    .dataframe tbody tr th:only-of-type {\n",
       "        vertical-align: middle;\n",
       "    }\n",
       "\n",
       "    .dataframe tbody tr th {\n",
       "        vertical-align: top;\n",
       "    }\n",
       "\n",
       "    .dataframe thead th {\n",
       "        text-align: right;\n",
       "    }\n",
       "</style>\n",
       "<table border=\"1\" class=\"dataframe\">\n",
       "  <thead>\n",
       "    <tr style=\"text-align: right;\">\n",
       "      <th></th>\n",
       "      <th>type</th>\n",
       "      <th>features</th>\n",
       "    </tr>\n",
       "  </thead>\n",
       "  <tbody>\n",
       "    <tr>\n",
       "      <th>0</th>\n",
       "      <td>FeatureCollection</td>\n",
       "      <td>{'type': 'Feature', 'properties': {'ID_0': 177...</td>\n",
       "    </tr>\n",
       "    <tr>\n",
       "      <th>1</th>\n",
       "      <td>FeatureCollection</td>\n",
       "      <td>{'type': 'Feature', 'properties': {'ID_0': 177...</td>\n",
       "    </tr>\n",
       "    <tr>\n",
       "      <th>2</th>\n",
       "      <td>FeatureCollection</td>\n",
       "      <td>{'type': 'Feature', 'properties': {'ID_0': 177...</td>\n",
       "    </tr>\n",
       "    <tr>\n",
       "      <th>3</th>\n",
       "      <td>FeatureCollection</td>\n",
       "      <td>{'type': 'Feature', 'properties': {'ID_0': 177...</td>\n",
       "    </tr>\n",
       "    <tr>\n",
       "      <th>4</th>\n",
       "      <td>FeatureCollection</td>\n",
       "      <td>{'type': 'Feature', 'properties': {'ID_0': 177...</td>\n",
       "    </tr>\n",
       "  </tbody>\n",
       "</table>\n",
       "</div>"
      ],
      "text/plain": [
       "                type                                           features\n",
       "0  FeatureCollection  {'type': 'Feature', 'properties': {'ID_0': 177...\n",
       "1  FeatureCollection  {'type': 'Feature', 'properties': {'ID_0': 177...\n",
       "2  FeatureCollection  {'type': 'Feature', 'properties': {'ID_0': 177...\n",
       "3  FeatureCollection  {'type': 'Feature', 'properties': {'ID_0': 177...\n",
       "4  FeatureCollection  {'type': 'Feature', 'properties': {'ID_0': 177..."
      ]
     },
     "execution_count": 3,
     "metadata": {},
     "output_type": "execute_result"
    }
   ],
   "source": [
    "municities.head()"
   ]
  },
  {
   "cell_type": "code",
   "execution_count": 4,
   "metadata": {
    "collapsed": false
   },
   "outputs": [],
   "source": [
    "dfobj = []\n",
    "for index, row in municities.iterrows():\n",
    "    dfobj.append(row['features'])"
   ]
  },
  {
   "cell_type": "code",
   "execution_count": 5,
   "metadata": {
    "collapsed": false
   },
   "outputs": [],
   "source": [
    "yeet = pd.DataFrame(dfobj)"
   ]
  },
  {
   "cell_type": "code",
   "execution_count": 6,
   "metadata": {
    "collapsed": false
   },
   "outputs": [
    {
     "data": {
      "text/html": [
       "<div>\n",
       "<style scoped>\n",
       "    .dataframe tbody tr th:only-of-type {\n",
       "        vertical-align: middle;\n",
       "    }\n",
       "\n",
       "    .dataframe tbody tr th {\n",
       "        vertical-align: top;\n",
       "    }\n",
       "\n",
       "    .dataframe thead th {\n",
       "        text-align: right;\n",
       "    }\n",
       "</style>\n",
       "<table border=\"1\" class=\"dataframe\">\n",
       "  <thead>\n",
       "    <tr style=\"text-align: right;\">\n",
       "      <th></th>\n",
       "      <th>geometry</th>\n",
       "      <th>properties</th>\n",
       "      <th>type</th>\n",
       "    </tr>\n",
       "  </thead>\n",
       "  <tbody>\n",
       "    <tr>\n",
       "      <th>0</th>\n",
       "      <td>{'type': 'Polygon', 'coordinates': [[[120.9679...</td>\n",
       "      <td>{'ID_0': 177, 'ISO': 'PHL', 'NAME_0': 'Philipp...</td>\n",
       "      <td>Feature</td>\n",
       "    </tr>\n",
       "    <tr>\n",
       "      <th>1</th>\n",
       "      <td>{'type': 'Polygon', 'coordinates': [[[125.5772...</td>\n",
       "      <td>{'ID_0': 177, 'ISO': 'PHL', 'NAME_0': 'Philipp...</td>\n",
       "      <td>Feature</td>\n",
       "    </tr>\n",
       "    <tr>\n",
       "      <th>2</th>\n",
       "      <td>{'type': 'Polygon', 'coordinates': [[[125.9108...</td>\n",
       "      <td>{'ID_0': 177, 'ISO': 'PHL', 'NAME_0': 'Philipp...</td>\n",
       "      <td>Feature</td>\n",
       "    </tr>\n",
       "    <tr>\n",
       "      <th>3</th>\n",
       "      <td>{'type': 'MultiPolygon', 'coordinates': [[[[12...</td>\n",
       "      <td>{'ID_0': 177, 'ISO': 'PHL', 'NAME_0': 'Philipp...</td>\n",
       "      <td>Feature</td>\n",
       "    </tr>\n",
       "    <tr>\n",
       "      <th>4</th>\n",
       "      <td>{'type': 'MultiPolygon', 'coordinates': [[[[12...</td>\n",
       "      <td>{'ID_0': 177, 'ISO': 'PHL', 'NAME_0': 'Philipp...</td>\n",
       "      <td>Feature</td>\n",
       "    </tr>\n",
       "  </tbody>\n",
       "</table>\n",
       "</div>"
      ],
      "text/plain": [
       "                                            geometry  \\\n",
       "0  {'type': 'Polygon', 'coordinates': [[[120.9679...   \n",
       "1  {'type': 'Polygon', 'coordinates': [[[125.5772...   \n",
       "2  {'type': 'Polygon', 'coordinates': [[[125.9108...   \n",
       "3  {'type': 'MultiPolygon', 'coordinates': [[[[12...   \n",
       "4  {'type': 'MultiPolygon', 'coordinates': [[[[12...   \n",
       "\n",
       "                                          properties     type  \n",
       "0  {'ID_0': 177, 'ISO': 'PHL', 'NAME_0': 'Philipp...  Feature  \n",
       "1  {'ID_0': 177, 'ISO': 'PHL', 'NAME_0': 'Philipp...  Feature  \n",
       "2  {'ID_0': 177, 'ISO': 'PHL', 'NAME_0': 'Philipp...  Feature  \n",
       "3  {'ID_0': 177, 'ISO': 'PHL', 'NAME_0': 'Philipp...  Feature  \n",
       "4  {'ID_0': 177, 'ISO': 'PHL', 'NAME_0': 'Philipp...  Feature  "
      ]
     },
     "execution_count": 6,
     "metadata": {},
     "output_type": "execute_result"
    }
   ],
   "source": [
    "yeet.head()"
   ]
  },
  {
   "cell_type": "code",
   "execution_count": 12,
   "metadata": {},
   "outputs": [
    {
     "name": "stdout",
     "output_type": "stream",
     "text": [
      "[120.967949, 17.95706]\n",
      "[125.57724, 9.45679]\n",
      "[125.910873, 8.85625]\n",
      "[122.436668, 11.59833]\n",
      "[123.287643, 13.04923]\n",
      "[121.920853, 10.42076]\n",
      "[121.33075, 17.85327]\n",
      "[121.574753, 15.59574]\n",
      "[121.968613, 6.28222]\n",
      "[120.623627, 14.36788]\n",
      "[121.813606, 20.334721]\n",
      "[121.085281, 13.57333]\n",
      "[120.79335, 16.919041]\n",
      "[124.266319, 11.58278]\n",
      "[123.921669, 9.48583]\n",
      "[124.891457, 8.59255]\n",
      "[121.002136, 14.737242]\n",
      "[122.32695, 18.248171]\n",
      "[123.106796, 14.047]\n",
      "[123.058777, 13.49125]\n",
      "[124.710121, 9.25738]\n",
      "[122.881073, 11.44462]\n",
      "[124.335548, 13.56307]\n",
      "[120.615829, 14.26396]\n",
      "[123.389549, 9.43467]\n",
      "[125.832642, 7.26979]\n",
      "[125.684753, 6.96153]\n",
      "[125.397781, 5.43583]\n",
      "[126.068848, 6.62813]\n",
      "[125.642502, 9.92667]\n",
      "[125.957024, 10.77604]\n",
      "[122.59803, 10.32855]\n",
      "[121.439423, 17.07999]\n",
      "[120.415558, 17.924999]\n",
      "[120.390953, 17.50012]\n",
      "[122.773064, 10.93785]\n",
      "[122.470398, 16.91995]\n",
      "[121.442787, 17.664101]\n",
      "[120.413719, 16.91852]\n",
      "[121.556396, 14.41308]\n",
      "[123.621933, 7.82859]\n",
      "[124.01667, 7.63528]\n",
      "[124.748917, 10.24652]\n",
      "[124.229446, 7.17361]\n",
      "[122.001541, 13.19066]\n",
      "[122.984169, 11.71056]\n",
      "[120.979721, 14.493055]\n",
      "[123.777237, 8.06518]\n",
      "[124.644493, 8.49252]\n",
      "[121.554703, 17.1689]\n",
      "[122.435219, 9.64382]\n",
      "[123.271111, 9.08476]\n",
      "[124.537987, 7.68187]\n",
      "[124.099716, 12.29028]\n",
      "[120.988037, 16.12756]\n",
      "[121.341431, 16.746901]\n",
      "[121.021942, 12.20611]\n",
      "[121.435738, 12.20257]\n",
      "[117.313889, 7.51417]\n",
      "[120.616669, 14.8]\n",
      "[119.865051, 15.8117]\n",
      "[125.221657, 10.43444]\n",
      "[121.499771, 16.63361]\n",
      "[121.25219, 14.30791]\n",
      "[121.936394, 12.09722]\n",
      "[125.191673, 11.12556]\n",
      "[124.396378, 6.213]\n",
      "[124.196243, 7.19008]\n",
      "[123.604477, 9.30056]\n",
      "[124.089722, 12.54889]\n",
      "[124.788612, 6.60905]\n",
      "[125.073608, 9.89472]\n",
      "[124.655609, 6.87044]\n",
      "[120.801353, 5.45708]\n",
      "[125.870209, 9.54064]\n",
      "[126.417503, 7.96417]\n",
      "[120.630074, 15.73335]\n",
      "[119.466942, 4.58694]\n",
      "[120.082848, 14.75048]\n",
      "[122.094673, 7.53152]\n",
      "[122.062233, 6.87278]\n",
      "[122.84063, 7.27694]\n"
     ]
    }
   ],
   "source": [
    "for step, deets in yeet.iterrows():\n",
    "    \n",
    "    print(temp)"
   ]
  },
  {
   "cell_type": "code",
   "execution_count": 37,
   "metadata": {
    "collapsed": false
   },
   "outputs": [],
   "source": [
    "realdata = []\n",
    "for step, deets in yeet.iterrows():\n",
    "    anobj = {}\n",
    "    anobj['name'] = deets['properties']['NAME_1']\n",
    "    temp = deets['geometry']['coordinates'] \n",
    "    while type(temp[0]) is not float:\n",
    "        temp = temp[0]\n",
    "    \n",
    "    anobj['avg consump'] = random.randint(5000,10000)\n",
    "    anobj['coords'] = temp\n",
    "    anobj['watervalue'] = random.randint(2000,15000)\n",
    "    realdata.append(anobj)"
   ]
  },
  {
   "cell_type": "code",
   "execution_count": null,
   "metadata": {},
   "outputs": [],
   "source": []
  },
  {
   "cell_type": "code",
   "execution_count": 38,
   "metadata": {
    "collapsed": true
   },
   "outputs": [],
   "source": [
    "savecsv = pd.DataFrame(realdata)"
   ]
  },
  {
   "cell_type": "code",
   "execution_count": 39,
   "metadata": {
    "collapsed": false
   },
   "outputs": [
    {
     "data": {
      "text/html": [
       "<div>\n",
       "<style scoped>\n",
       "    .dataframe tbody tr th:only-of-type {\n",
       "        vertical-align: middle;\n",
       "    }\n",
       "\n",
       "    .dataframe tbody tr th {\n",
       "        vertical-align: top;\n",
       "    }\n",
       "\n",
       "    .dataframe thead th {\n",
       "        text-align: right;\n",
       "    }\n",
       "</style>\n",
       "<table border=\"1\" class=\"dataframe\">\n",
       "  <thead>\n",
       "    <tr style=\"text-align: right;\">\n",
       "      <th></th>\n",
       "      <th>avg consump</th>\n",
       "      <th>coords</th>\n",
       "      <th>name</th>\n",
       "      <th>watervalue</th>\n",
       "    </tr>\n",
       "  </thead>\n",
       "  <tbody>\n",
       "    <tr>\n",
       "      <th>0</th>\n",
       "      <td>7051</td>\n",
       "      <td>[120.967949, 17.95706]</td>\n",
       "      <td>Abra</td>\n",
       "      <td>10390</td>\n",
       "    </tr>\n",
       "    <tr>\n",
       "      <th>1</th>\n",
       "      <td>8177</td>\n",
       "      <td>[125.57724, 9.45679]</td>\n",
       "      <td>Agusan del Norte</td>\n",
       "      <td>8988</td>\n",
       "    </tr>\n",
       "    <tr>\n",
       "      <th>2</th>\n",
       "      <td>5919</td>\n",
       "      <td>[125.910873, 8.85625]</td>\n",
       "      <td>Agusan del Sur</td>\n",
       "      <td>2513</td>\n",
       "    </tr>\n",
       "    <tr>\n",
       "      <th>3</th>\n",
       "      <td>6891</td>\n",
       "      <td>[122.436668, 11.59833]</td>\n",
       "      <td>Aklan</td>\n",
       "      <td>4108</td>\n",
       "    </tr>\n",
       "    <tr>\n",
       "      <th>4</th>\n",
       "      <td>5622</td>\n",
       "      <td>[123.287643, 13.04923]</td>\n",
       "      <td>Albay</td>\n",
       "      <td>11356</td>\n",
       "    </tr>\n",
       "  </tbody>\n",
       "</table>\n",
       "</div>"
      ],
      "text/plain": [
       "   avg consump                  coords              name  watervalue\n",
       "0         7051  [120.967949, 17.95706]              Abra       10390\n",
       "1         8177    [125.57724, 9.45679]  Agusan del Norte        8988\n",
       "2         5919   [125.910873, 8.85625]    Agusan del Sur        2513\n",
       "3         6891  [122.436668, 11.59833]             Aklan        4108\n",
       "4         5622  [123.287643, 13.04923]             Albay       11356"
      ]
     },
     "execution_count": 39,
     "metadata": {},
     "output_type": "execute_result"
    }
   ],
   "source": [
    "savecsv.head()"
   ]
  },
  {
   "cell_type": "code",
   "execution_count": 40,
   "metadata": {
    "collapsed": true
   },
   "outputs": [],
   "source": [
    "savecsv.to_csv('data.csv', index= False)"
   ]
  },
  {
   "cell_type": "code",
   "execution_count": null,
   "metadata": {},
   "outputs": [],
   "source": [
    "shit = {}\n",
    "for i in range(len(savecsv['name'])):\n",
    "    shit[savecsv['name'].tolist()[i]]  = savecsv['watervalue'].tolist()[i]"
   ]
  },
  {
   "cell_type": "code",
   "execution_count": 41,
   "metadata": {
    "collapsed": true
   },
   "outputs": [
    {
     "data": {
      "text/plain": [
       "['Abra',\n",
       " 'Agusan del Norte',\n",
       " 'Agusan del Sur',\n",
       " 'Aklan',\n",
       " 'Albay',\n",
       " 'Antique',\n",
       " 'Apayao',\n",
       " 'Aurora',\n",
       " 'Basilan',\n",
       " 'Bataan',\n",
       " 'Batanes',\n",
       " 'Batangas',\n",
       " 'Benguet',\n",
       " 'Biliran',\n",
       " 'Bohol',\n",
       " 'Bukidnon',\n",
       " 'Bulacan',\n",
       " 'Cagayan',\n",
       " 'Camarines Norte',\n",
       " 'Camarines Sur',\n",
       " 'Camiguin',\n",
       " 'Capiz',\n",
       " 'Catanduanes',\n",
       " 'Cavite',\n",
       " 'Cebu',\n",
       " 'Compostela Valley',\n",
       " 'Davao del Norte',\n",
       " 'Davao del Sur',\n",
       " 'Davao Oriental',\n",
       " 'Dinagat Islands',\n",
       " 'Eastern Samar',\n",
       " 'Guimaras',\n",
       " 'Ifugao',\n",
       " 'Ilocos Norte',\n",
       " 'Ilocos Sur',\n",
       " 'Iloilo',\n",
       " 'Isabela',\n",
       " 'Kalinga',\n",
       " 'La Union',\n",
       " 'Laguna',\n",
       " 'Lanao del Norte',\n",
       " 'Lanao del Sur',\n",
       " 'Leyte',\n",
       " 'Maguindanao',\n",
       " 'Marinduque',\n",
       " 'Masbate',\n",
       " 'Metropolitan Manila',\n",
       " 'Misamis Occidental',\n",
       " 'Misamis Oriental',\n",
       " 'Mountain Province',\n",
       " 'Negros Occidental',\n",
       " 'Negros Oriental',\n",
       " 'North Cotabato',\n",
       " 'Northern Samar',\n",
       " 'Nueva Ecija',\n",
       " 'Nueva Vizcaya',\n",
       " 'Occidental Mindoro',\n",
       " 'Oriental Mindoro',\n",
       " 'Palawan',\n",
       " 'Pampanga',\n",
       " 'Pangasinan',\n",
       " 'Quezon',\n",
       " 'Quirino',\n",
       " 'Rizal',\n",
       " 'Romblon',\n",
       " 'Samar',\n",
       " 'Sarangani',\n",
       " 'Shariff Kabunsuan',\n",
       " 'Siquijor',\n",
       " 'Sorsogon',\n",
       " 'South Cotabato',\n",
       " 'Southern Leyte',\n",
       " 'Sultan Kudarat',\n",
       " 'Sulu',\n",
       " 'Surigao del Norte',\n",
       " 'Surigao del Sur',\n",
       " 'Tarlac',\n",
       " 'Tawi-Tawi',\n",
       " 'Zambales',\n",
       " 'Zamboanga del Norte',\n",
       " 'Zamboanga del Sur',\n",
       " 'Zamboanga Sibugay']"
      ]
     },
     "execution_count": 41,
     "metadata": {},
     "output_type": "execute_result"
    }
   ],
   "source": [
    "savecsv['name'].tolist()"
   ]
  },
  {
   "cell_type": "code",
   "execution_count": null,
   "metadata": {},
   "outputs": [],
   "source": []
  }
 ],
 "metadata": {
  "kernelspec": {
   "display_name": "Python 3",
   "language": "python",
   "name": "python3"
  },
  "language_info": {
   "codemirror_mode": {
    "name": "ipython",
    "version": 3
   },
   "file_extension": ".py",
   "mimetype": "text/x-python",
   "name": "python",
   "nbconvert_exporter": "python",
   "pygments_lexer": "ipython3",
   "version": "3.7.0"
  }
 },
 "nbformat": 4,
 "nbformat_minor": 2
}
